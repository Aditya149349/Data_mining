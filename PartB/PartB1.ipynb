{
  "nbformat": 4,
  "nbformat_minor": 0,
  "metadata": {
    "colab": {
      "name": "PartB1.ipynb",
      "provenance": [],
      "collapsed_sections": []
    },
    "kernelspec": {
      "name": "python3",
      "display_name": "Python 3"
    }
  },
  "cells": [
    {
      "cell_type": "code",
      "metadata": {
        "id": "nWSDrKKeqJHI"
      },
      "source": [
        "import pandas as pd\n",
        "import numpy as np\n",
        "from sklearn.impute import SimpleImputer # used for handling missing data\n",
        "from sklearn.preprocessing import LabelEncoder, OneHotEncoder # used for encoding categorical data\n",
        "from sklearn.model_selection import train_test_split # used for splitting training and testing data\n",
        "from sklearn.preprocessing import StandardScaler # used for feature scaling"
      ],
      "execution_count": 62,
      "outputs": []
    },
    {
      "cell_type": "code",
      "metadata": {
        "id": "GYVP9J8Iqg7I"
      },
      "source": [
        "df = pd.read_csv(\"/content/drive/MyDrive/melanoma.csv\")"
      ],
      "execution_count": 63,
      "outputs": []
    },
    {
      "cell_type": "code",
      "metadata": {
        "colab": {
          "base_uri": "https://localhost:8080/",
          "height": 204
        },
        "id": "fNFzI1puqmc8",
        "outputId": "228459e3-4821-4cf8-8366-84a079fda693"
      },
      "source": [
        "df.head()"
      ],
      "execution_count": 64,
      "outputs": [
        {
          "output_type": "execute_result",
          "data": {
            "text/html": [
              "<div>\n",
              "<style scoped>\n",
              "    .dataframe tbody tr th:only-of-type {\n",
              "        vertical-align: middle;\n",
              "    }\n",
              "\n",
              "    .dataframe tbody tr th {\n",
              "        vertical-align: top;\n",
              "    }\n",
              "\n",
              "    .dataframe thead th {\n",
              "        text-align: right;\n",
              "    }\n",
              "</style>\n",
              "<table border=\"1\" class=\"dataframe\">\n",
              "  <thead>\n",
              "    <tr style=\"text-align: right;\">\n",
              "      <th></th>\n",
              "      <th>Unnamed: 0</th>\n",
              "      <th>time</th>\n",
              "      <th>status</th>\n",
              "      <th>sex</th>\n",
              "      <th>age</th>\n",
              "      <th>year</th>\n",
              "      <th>thickness</th>\n",
              "      <th>ulcer</th>\n",
              "    </tr>\n",
              "  </thead>\n",
              "  <tbody>\n",
              "    <tr>\n",
              "      <th>0</th>\n",
              "      <td>1</td>\n",
              "      <td>10.0</td>\n",
              "      <td>3</td>\n",
              "      <td>1.0</td>\n",
              "      <td>76.0</td>\n",
              "      <td>1972</td>\n",
              "      <td>6.76</td>\n",
              "      <td>1</td>\n",
              "    </tr>\n",
              "    <tr>\n",
              "      <th>1</th>\n",
              "      <td>2</td>\n",
              "      <td>30.0</td>\n",
              "      <td>3</td>\n",
              "      <td>1.0</td>\n",
              "      <td>56.0</td>\n",
              "      <td>1968</td>\n",
              "      <td>0.65</td>\n",
              "      <td>0</td>\n",
              "    </tr>\n",
              "    <tr>\n",
              "      <th>2</th>\n",
              "      <td>3</td>\n",
              "      <td>35.0</td>\n",
              "      <td>2</td>\n",
              "      <td>1.0</td>\n",
              "      <td>41.0</td>\n",
              "      <td>1977</td>\n",
              "      <td>1.34</td>\n",
              "      <td>0</td>\n",
              "    </tr>\n",
              "    <tr>\n",
              "      <th>3</th>\n",
              "      <td>4</td>\n",
              "      <td>99.0</td>\n",
              "      <td>3</td>\n",
              "      <td>0.0</td>\n",
              "      <td>71.0</td>\n",
              "      <td>1968</td>\n",
              "      <td>2.90</td>\n",
              "      <td>0</td>\n",
              "    </tr>\n",
              "    <tr>\n",
              "      <th>4</th>\n",
              "      <td>5</td>\n",
              "      <td>185.0</td>\n",
              "      <td>1</td>\n",
              "      <td>1.0</td>\n",
              "      <td>52.0</td>\n",
              "      <td>1965</td>\n",
              "      <td>12.08</td>\n",
              "      <td>1</td>\n",
              "    </tr>\n",
              "  </tbody>\n",
              "</table>\n",
              "</div>"
            ],
            "text/plain": [
              "   Unnamed: 0   time  status  sex   age  year  thickness  ulcer\n",
              "0           1   10.0       3  1.0  76.0  1972       6.76      1\n",
              "1           2   30.0       3  1.0  56.0  1968       0.65      0\n",
              "2           3   35.0       2  1.0  41.0  1977       1.34      0\n",
              "3           4   99.0       3  0.0  71.0  1968       2.90      0\n",
              "4           5  185.0       1  1.0  52.0  1965      12.08      1"
            ]
          },
          "metadata": {
            "tags": []
          },
          "execution_count": 64
        }
      ]
    },
    {
      "cell_type": "markdown",
      "metadata": {
        "id": "B59LwGv-wZxM"
      },
      "source": [
        "Check for missing values"
      ]
    },
    {
      "cell_type": "code",
      "metadata": {
        "id": "9cEji-c-qnkG",
        "colab": {
          "base_uri": "https://localhost:8080/"
        },
        "outputId": "f18712d7-fa0b-4ee9-b0a9-a93007b72d7a"
      },
      "source": [
        "df.columns[df.isna().any()].tolist()"
      ],
      "execution_count": 65,
      "outputs": [
        {
          "output_type": "execute_result",
          "data": {
            "text/plain": [
              "['time', 'sex', 'age']"
            ]
          },
          "metadata": {
            "tags": []
          },
          "execution_count": 65
        }
      ]
    },
    {
      "cell_type": "code",
      "metadata": {
        "id": "TLDQApaDwWOW"
      },
      "source": [
        " dropped_df = df[df['time'].notna()]"
      ],
      "execution_count": 66,
      "outputs": []
    },
    {
      "cell_type": "markdown",
      "metadata": {
        "id": "_SnNz8rvynwr"
      },
      "source": [
        "Dropping rows where time has an nan value"
      ]
    },
    {
      "cell_type": "code",
      "metadata": {
        "colab": {
          "base_uri": "https://localhost:8080/",
          "height": 204
        },
        "id": "_2IxP4MLw6Fv",
        "outputId": "4a66d587-125c-4e49-fefe-99a3a0df128f"
      },
      "source": [
        "dropped_df.head()"
      ],
      "execution_count": 67,
      "outputs": [
        {
          "output_type": "execute_result",
          "data": {
            "text/html": [
              "<div>\n",
              "<style scoped>\n",
              "    .dataframe tbody tr th:only-of-type {\n",
              "        vertical-align: middle;\n",
              "    }\n",
              "\n",
              "    .dataframe tbody tr th {\n",
              "        vertical-align: top;\n",
              "    }\n",
              "\n",
              "    .dataframe thead th {\n",
              "        text-align: right;\n",
              "    }\n",
              "</style>\n",
              "<table border=\"1\" class=\"dataframe\">\n",
              "  <thead>\n",
              "    <tr style=\"text-align: right;\">\n",
              "      <th></th>\n",
              "      <th>Unnamed: 0</th>\n",
              "      <th>time</th>\n",
              "      <th>status</th>\n",
              "      <th>sex</th>\n",
              "      <th>age</th>\n",
              "      <th>year</th>\n",
              "      <th>thickness</th>\n",
              "      <th>ulcer</th>\n",
              "    </tr>\n",
              "  </thead>\n",
              "  <tbody>\n",
              "    <tr>\n",
              "      <th>0</th>\n",
              "      <td>1</td>\n",
              "      <td>10.0</td>\n",
              "      <td>3</td>\n",
              "      <td>1.0</td>\n",
              "      <td>76.0</td>\n",
              "      <td>1972</td>\n",
              "      <td>6.76</td>\n",
              "      <td>1</td>\n",
              "    </tr>\n",
              "    <tr>\n",
              "      <th>1</th>\n",
              "      <td>2</td>\n",
              "      <td>30.0</td>\n",
              "      <td>3</td>\n",
              "      <td>1.0</td>\n",
              "      <td>56.0</td>\n",
              "      <td>1968</td>\n",
              "      <td>0.65</td>\n",
              "      <td>0</td>\n",
              "    </tr>\n",
              "    <tr>\n",
              "      <th>2</th>\n",
              "      <td>3</td>\n",
              "      <td>35.0</td>\n",
              "      <td>2</td>\n",
              "      <td>1.0</td>\n",
              "      <td>41.0</td>\n",
              "      <td>1977</td>\n",
              "      <td>1.34</td>\n",
              "      <td>0</td>\n",
              "    </tr>\n",
              "    <tr>\n",
              "      <th>3</th>\n",
              "      <td>4</td>\n",
              "      <td>99.0</td>\n",
              "      <td>3</td>\n",
              "      <td>0.0</td>\n",
              "      <td>71.0</td>\n",
              "      <td>1968</td>\n",
              "      <td>2.90</td>\n",
              "      <td>0</td>\n",
              "    </tr>\n",
              "    <tr>\n",
              "      <th>4</th>\n",
              "      <td>5</td>\n",
              "      <td>185.0</td>\n",
              "      <td>1</td>\n",
              "      <td>1.0</td>\n",
              "      <td>52.0</td>\n",
              "      <td>1965</td>\n",
              "      <td>12.08</td>\n",
              "      <td>1</td>\n",
              "    </tr>\n",
              "  </tbody>\n",
              "</table>\n",
              "</div>"
            ],
            "text/plain": [
              "   Unnamed: 0   time  status  sex   age  year  thickness  ulcer\n",
              "0           1   10.0       3  1.0  76.0  1972       6.76      1\n",
              "1           2   30.0       3  1.0  56.0  1968       0.65      0\n",
              "2           3   35.0       2  1.0  41.0  1977       1.34      0\n",
              "3           4   99.0       3  0.0  71.0  1968       2.90      0\n",
              "4           5  185.0       1  1.0  52.0  1965      12.08      1"
            ]
          },
          "metadata": {
            "tags": []
          },
          "execution_count": 67
        }
      ]
    },
    {
      "cell_type": "code",
      "metadata": {
        "colab": {
          "base_uri": "https://localhost:8080/"
        },
        "id": "_1IUYnCLy9r0",
        "outputId": "6f87c1e4-85c5-4536-f257-e6dcc5f0ce05"
      },
      "source": [
        "print('Average values of each column:\\n')\n",
        "print('Time: ',df[\"time\"].mean())\n",
        "print('\\nAge: ',df[\"age\"].mean())\n",
        "print(\"\\nThickness: \",df[\"thickness\"].mean())"
      ],
      "execution_count": 90,
      "outputs": [
        {
          "output_type": "stream",
          "text": [
            "Average values of each column:\n",
            "\n",
            "Time:  2142.855\n",
            "\n",
            "Age:  52.537313432835816\n",
            "\n",
            "Thickness:  2.9198536585365873\n"
          ],
          "name": "stdout"
        }
      ]
    },
    {
      "cell_type": "markdown",
      "metadata": {
        "id": "wu65Dquc7zLf"
      },
      "source": [
        "Filling missing values with mean and median"
      ]
    },
    {
      "cell_type": "code",
      "metadata": {
        "colab": {
          "base_uri": "https://localhost:8080/"
        },
        "id": "tFbFsYr7723U",
        "outputId": "53e35734-ab32-42dc-8398-cca8b6c3bef7"
      },
      "source": [
        "df.fillna(df.mean(), inplace=True)\n",
        "\n",
        "print(df.loc[74])\n"
      ],
      "execution_count": 91,
      "outputs": [
        {
          "output_type": "stream",
          "text": [
            "Unnamed: 0         75\n",
            "time          2142.86\n",
            "status              1\n",
            "sex              Male\n",
            "age                58\n",
            "year             1970\n",
            "thickness        0.97\n",
            "ulcer               1\n",
            "avg           300.853\n",
            "Name: 74, dtype: object\n"
          ],
          "name": "stdout"
        }
      ]
    },
    {
      "cell_type": "markdown",
      "metadata": {
        "id": "H29A-pff7a21"
      },
      "source": [
        "Renaming the sex attribute's values"
      ]
    },
    {
      "cell_type": "code",
      "metadata": {
        "id": "XytIrL_U7Lxr"
      },
      "source": [
        "df['sex'] = df['sex'].map({1: 'Female', 0: 'Male'})"
      ],
      "execution_count": 71,
      "outputs": []
    },
    {
      "cell_type": "code",
      "metadata": {
        "colab": {
          "base_uri": "https://localhost:8080/",
          "height": 204
        },
        "id": "RMOGVVXM7PZn",
        "outputId": "65d11dd4-e279-4ffb-899d-4f298141ac19"
      },
      "source": [
        "df.head()"
      ],
      "execution_count": 72,
      "outputs": [
        {
          "output_type": "execute_result",
          "data": {
            "text/html": [
              "<div>\n",
              "<style scoped>\n",
              "    .dataframe tbody tr th:only-of-type {\n",
              "        vertical-align: middle;\n",
              "    }\n",
              "\n",
              "    .dataframe tbody tr th {\n",
              "        vertical-align: top;\n",
              "    }\n",
              "\n",
              "    .dataframe thead th {\n",
              "        text-align: right;\n",
              "    }\n",
              "</style>\n",
              "<table border=\"1\" class=\"dataframe\">\n",
              "  <thead>\n",
              "    <tr style=\"text-align: right;\">\n",
              "      <th></th>\n",
              "      <th>Unnamed: 0</th>\n",
              "      <th>time</th>\n",
              "      <th>status</th>\n",
              "      <th>sex</th>\n",
              "      <th>age</th>\n",
              "      <th>year</th>\n",
              "      <th>thickness</th>\n",
              "      <th>ulcer</th>\n",
              "      <th>avg</th>\n",
              "    </tr>\n",
              "  </thead>\n",
              "  <tbody>\n",
              "    <tr>\n",
              "      <th>0</th>\n",
              "      <td>1</td>\n",
              "      <td>10.0</td>\n",
              "      <td>3</td>\n",
              "      <td>Female</td>\n",
              "      <td>76.0</td>\n",
              "      <td>1972</td>\n",
              "      <td>6.76</td>\n",
              "      <td>1</td>\n",
              "      <td>258.84500</td>\n",
              "    </tr>\n",
              "    <tr>\n",
              "      <th>1</th>\n",
              "      <td>2</td>\n",
              "      <td>30.0</td>\n",
              "      <td>3</td>\n",
              "      <td>Female</td>\n",
              "      <td>56.0</td>\n",
              "      <td>1968</td>\n",
              "      <td>0.65</td>\n",
              "      <td>0</td>\n",
              "      <td>257.58125</td>\n",
              "    </tr>\n",
              "    <tr>\n",
              "      <th>2</th>\n",
              "      <td>3</td>\n",
              "      <td>35.0</td>\n",
              "      <td>2</td>\n",
              "      <td>Female</td>\n",
              "      <td>41.0</td>\n",
              "      <td>1977</td>\n",
              "      <td>1.34</td>\n",
              "      <td>0</td>\n",
              "      <td>257.54250</td>\n",
              "    </tr>\n",
              "    <tr>\n",
              "      <th>3</th>\n",
              "      <td>4</td>\n",
              "      <td>99.0</td>\n",
              "      <td>3</td>\n",
              "      <td>Male</td>\n",
              "      <td>71.0</td>\n",
              "      <td>1968</td>\n",
              "      <td>2.90</td>\n",
              "      <td>0</td>\n",
              "      <td>268.48750</td>\n",
              "    </tr>\n",
              "    <tr>\n",
              "      <th>4</th>\n",
              "      <td>5</td>\n",
              "      <td>185.0</td>\n",
              "      <td>1</td>\n",
              "      <td>Female</td>\n",
              "      <td>52.0</td>\n",
              "      <td>1965</td>\n",
              "      <td>12.08</td>\n",
              "      <td>1</td>\n",
              "      <td>277.76000</td>\n",
              "    </tr>\n",
              "  </tbody>\n",
              "</table>\n",
              "</div>"
            ],
            "text/plain": [
              "   Unnamed: 0   time  status     sex   age  year  thickness  ulcer        avg\n",
              "0           1   10.0       3  Female  76.0  1972       6.76      1  258.84500\n",
              "1           2   30.0       3  Female  56.0  1968       0.65      0  257.58125\n",
              "2           3   35.0       2  Female  41.0  1977       1.34      0  257.54250\n",
              "3           4   99.0       3    Male  71.0  1968       2.90      0  268.48750\n",
              "4           5  185.0       1  Female  52.0  1965      12.08      1  277.76000"
            ]
          },
          "metadata": {
            "tags": []
          },
          "execution_count": 72
        }
      ]
    },
    {
      "cell_type": "markdown",
      "metadata": {
        "id": "h4bxeNsO9smB"
      },
      "source": [
        "Correlation"
      ]
    },
    {
      "cell_type": "code",
      "metadata": {
        "colab": {
          "base_uri": "https://localhost:8080/",
          "height": 297
        },
        "id": "YKb4L9Rj7Q1o",
        "outputId": "b6ddf64d-d056-45c1-ca9c-75e159c64aee"
      },
      "source": [
        "df.corr(method ='pearson') \n"
      ],
      "execution_count": 92,
      "outputs": [
        {
          "output_type": "execute_result",
          "data": {
            "text/html": [
              "<div>\n",
              "<style scoped>\n",
              "    .dataframe tbody tr th:only-of-type {\n",
              "        vertical-align: middle;\n",
              "    }\n",
              "\n",
              "    .dataframe tbody tr th {\n",
              "        vertical-align: top;\n",
              "    }\n",
              "\n",
              "    .dataframe thead th {\n",
              "        text-align: right;\n",
              "    }\n",
              "</style>\n",
              "<table border=\"1\" class=\"dataframe\">\n",
              "  <thead>\n",
              "    <tr style=\"text-align: right;\">\n",
              "      <th></th>\n",
              "      <th>Unnamed: 0</th>\n",
              "      <th>time</th>\n",
              "      <th>status</th>\n",
              "      <th>age</th>\n",
              "      <th>year</th>\n",
              "      <th>thickness</th>\n",
              "      <th>ulcer</th>\n",
              "      <th>avg</th>\n",
              "    </tr>\n",
              "  </thead>\n",
              "  <tbody>\n",
              "    <tr>\n",
              "      <th>Unnamed: 0</th>\n",
              "      <td>1.000000</td>\n",
              "      <td>0.967840</td>\n",
              "      <td>0.340901</td>\n",
              "      <td>-0.289196</td>\n",
              "      <td>-0.441657</td>\n",
              "      <td>-0.245014</td>\n",
              "      <td>-0.252307</td>\n",
              "      <td>0.923235</td>\n",
              "    </tr>\n",
              "    <tr>\n",
              "      <th>time</th>\n",
              "      <td>0.967840</td>\n",
              "      <td>1.000000</td>\n",
              "      <td>0.311175</td>\n",
              "      <td>-0.314214</td>\n",
              "      <td>-0.482761</td>\n",
              "      <td>-0.233915</td>\n",
              "      <td>-0.273785</td>\n",
              "      <td>0.970411</td>\n",
              "    </tr>\n",
              "    <tr>\n",
              "      <th>status</th>\n",
              "      <td>0.340901</td>\n",
              "      <td>0.311175</td>\n",
              "      <td>1.000000</td>\n",
              "      <td>0.004050</td>\n",
              "      <td>0.138167</td>\n",
              "      <td>-0.204722</td>\n",
              "      <td>-0.270326</td>\n",
              "      <td>0.298969</td>\n",
              "    </tr>\n",
              "    <tr>\n",
              "      <th>age</th>\n",
              "      <td>-0.289196</td>\n",
              "      <td>-0.314214</td>\n",
              "      <td>0.004050</td>\n",
              "      <td>1.000000</td>\n",
              "      <td>0.179961</td>\n",
              "      <td>0.218035</td>\n",
              "      <td>0.141499</td>\n",
              "      <td>-0.299205</td>\n",
              "    </tr>\n",
              "    <tr>\n",
              "      <th>year</th>\n",
              "      <td>-0.441657</td>\n",
              "      <td>-0.482761</td>\n",
              "      <td>0.138167</td>\n",
              "      <td>0.179961</td>\n",
              "      <td>1.000000</td>\n",
              "      <td>-0.133345</td>\n",
              "      <td>-0.033126</td>\n",
              "      <td>-0.472641</td>\n",
              "    </tr>\n",
              "    <tr>\n",
              "      <th>thickness</th>\n",
              "      <td>-0.245014</td>\n",
              "      <td>-0.233915</td>\n",
              "      <td>-0.204722</td>\n",
              "      <td>0.218035</td>\n",
              "      <td>-0.133345</td>\n",
              "      <td>1.000000</td>\n",
              "      <td>0.424459</td>\n",
              "      <td>-0.196908</td>\n",
              "    </tr>\n",
              "    <tr>\n",
              "      <th>ulcer</th>\n",
              "      <td>-0.252307</td>\n",
              "      <td>-0.273785</td>\n",
              "      <td>-0.270326</td>\n",
              "      <td>0.141499</td>\n",
              "      <td>-0.033126</td>\n",
              "      <td>0.424459</td>\n",
              "      <td>1.000000</td>\n",
              "      <td>-0.286160</td>\n",
              "    </tr>\n",
              "    <tr>\n",
              "      <th>avg</th>\n",
              "      <td>0.923235</td>\n",
              "      <td>0.970411</td>\n",
              "      <td>0.298969</td>\n",
              "      <td>-0.299205</td>\n",
              "      <td>-0.472641</td>\n",
              "      <td>-0.196908</td>\n",
              "      <td>-0.286160</td>\n",
              "      <td>1.000000</td>\n",
              "    </tr>\n",
              "  </tbody>\n",
              "</table>\n",
              "</div>"
            ],
            "text/plain": [
              "            Unnamed: 0      time    status  ...  thickness     ulcer       avg\n",
              "Unnamed: 0    1.000000  0.967840  0.340901  ...  -0.245014 -0.252307  0.923235\n",
              "time          0.967840  1.000000  0.311175  ...  -0.233915 -0.273785  0.970411\n",
              "status        0.340901  0.311175  1.000000  ...  -0.204722 -0.270326  0.298969\n",
              "age          -0.289196 -0.314214  0.004050  ...   0.218035  0.141499 -0.299205\n",
              "year         -0.441657 -0.482761  0.138167  ...  -0.133345 -0.033126 -0.472641\n",
              "thickness    -0.245014 -0.233915 -0.204722  ...   1.000000  0.424459 -0.196908\n",
              "ulcer        -0.252307 -0.273785 -0.270326  ...   0.424459  1.000000 -0.286160\n",
              "avg           0.923235  0.970411  0.298969  ...  -0.196908 -0.286160  1.000000\n",
              "\n",
              "[8 rows x 8 columns]"
            ]
          },
          "metadata": {
            "tags": []
          },
          "execution_count": 92
        }
      ]
    }
  ]
}